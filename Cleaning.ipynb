{
 "cells": [
  {
   "cell_type": "code",
   "execution_count": 1,
   "metadata": {},
   "outputs": [],
   "source": [
    "import pandas as pd\n",
    "import numpy as np\n",
    "import re"
   ]
  },
  {
   "cell_type": "markdown",
   "metadata": {},
   "source": [
    "# 2017 Sensor Data Cleaning"
   ]
  },
  {
   "cell_type": "code",
   "execution_count": 2,
   "metadata": {},
   "outputs": [],
   "source": [
    "# Read in the file. For iterations, start from cleaned file to skip initial datetime conversion\n",
    "# When initially taken in, the ArrivalTime and DepartureTime had 2 noticeable formats\n",
    "# Both 24HR and 12HR style\n",
    "# Took a considerable amount of time to do the initial conversion 1hr+\n",
    "# When saved to a csv again, does not retain dtype, but conversion time is short\n",
    "\n",
    "#p_2017 = pd.read_csv('../Data/On-street_Car_Parking_Sensor_Data_-_2017.csv')\n",
    "\n",
    "# Below csv had time converted, but also added a column and removed others on first save\n",
    "# Because of this, some lines didn't need to be run in itterations, and have been commented out\n",
    "\n",
    "p_2017 = pd.read_csv('../Data/cleaned/On-street_Car_Parking_Sensor_Data_-_2017_cleaned.csv')"
   ]
  },
  {
   "cell_type": "code",
   "execution_count": 3,
   "metadata": {},
   "outputs": [],
   "source": [
    "# Put Python to work and convert Time columns to datetime dtype. Long runtime, avoid use\n",
    "# Remove as many records as possible first, before running this\n",
    "\n",
    "#p_2017['ArrivalTime'] = pd.to_datetime(p_2017['ArrivalTime'], infer_datetime_format=True)\n",
    "#p_2017['DepartureTime'] = pd.to_datetime(p_2017['DepartureTime'], infer_datetime_format=True)\n",
    "\n",
    "# Dropping columns to make the set more manageable\n",
    "# DeviceId is redundant, sensors have been changed over the years\n",
    "# StreetId doesn't provide useful information\n",
    "# BetweenStreets also dropped for now, on merging will have lat/long info\n",
    "\n",
    "#p_2017.drop(columns = ['DeviceId', 'StreetId', 'BetweenStreet1', 'BetweenStreet2'], inplace =True)\n",
    "\n",
    "# New column if a sign is in effect at time of event\n",
    "# Don't need to run now, was performed in first iteration of cleaning\n",
    "\n",
    "#p_2017['Sign_in_effect'] = p_2017['sign'].notnull()"
   ]
  },
  {
   "cell_type": "code",
   "execution_count": 4,
   "metadata": {},
   "outputs": [
    {
     "data": {
      "text/html": [
       "<div>\n",
       "<style scoped>\n",
       "    .dataframe tbody tr th:only-of-type {\n",
       "        vertical-align: middle;\n",
       "    }\n",
       "\n",
       "    .dataframe tbody tr th {\n",
       "        vertical-align: top;\n",
       "    }\n",
       "\n",
       "    .dataframe thead th {\n",
       "        text-align: right;\n",
       "    }\n",
       "</style>\n",
       "<table border=\"1\" class=\"dataframe\">\n",
       "  <thead>\n",
       "    <tr style=\"text-align: right;\">\n",
       "      <th></th>\n",
       "      <th>ArrivalTime</th>\n",
       "      <th>DepartureTime</th>\n",
       "      <th>DurationSeconds</th>\n",
       "      <th>StreetMarker</th>\n",
       "      <th>Sign</th>\n",
       "      <th>Area</th>\n",
       "      <th>StreetName</th>\n",
       "      <th>Side Of Street</th>\n",
       "      <th>In Violation</th>\n",
       "      <th>Vehicle Present</th>\n",
       "      <th>Sign_in_effect</th>\n",
       "    </tr>\n",
       "  </thead>\n",
       "  <tbody>\n",
       "    <tr>\n",
       "      <th>0</th>\n",
       "      <td>2017-04-11 07:24:35</td>\n",
       "      <td>2017-04-11 07:30:00</td>\n",
       "      <td>325</td>\n",
       "      <td>2477S</td>\n",
       "      <td>NaN</td>\n",
       "      <td>Spencer</td>\n",
       "      <td>BOURKE STREET</td>\n",
       "      <td>4</td>\n",
       "      <td>False</td>\n",
       "      <td>True</td>\n",
       "      <td>False</td>\n",
       "    </tr>\n",
       "    <tr>\n",
       "      <th>1</th>\n",
       "      <td>2017-07-03 06:41:20</td>\n",
       "      <td>2017-07-03 07:30:00</td>\n",
       "      <td>2920</td>\n",
       "      <td>3598N</td>\n",
       "      <td>NaN</td>\n",
       "      <td>Magistrates</td>\n",
       "      <td>LITTLE LONSDALE STREET</td>\n",
       "      <td>3</td>\n",
       "      <td>False</td>\n",
       "      <td>False</td>\n",
       "      <td>False</td>\n",
       "    </tr>\n",
       "    <tr>\n",
       "      <th>2</th>\n",
       "      <td>2017-04-07 10:48:38</td>\n",
       "      <td>2017-04-07 11:41:34</td>\n",
       "      <td>3176</td>\n",
       "      <td>12548N</td>\n",
       "      <td>2P TKT A M-F 7:30-18:30</td>\n",
       "      <td>Jolimont</td>\n",
       "      <td>WELLINGTON PARADE</td>\n",
       "      <td>3</td>\n",
       "      <td>False</td>\n",
       "      <td>True</td>\n",
       "      <td>True</td>\n",
       "    </tr>\n",
       "    <tr>\n",
       "      <th>3</th>\n",
       "      <td>2017-02-09 16:57:38</td>\n",
       "      <td>2017-02-09 17:11:04</td>\n",
       "      <td>806</td>\n",
       "      <td>13836N</td>\n",
       "      <td>2P TKT A M-SAT 7:30-18:30</td>\n",
       "      <td>Docklands</td>\n",
       "      <td>LITTLE DOCKLANDS DRIVE</td>\n",
       "      <td>3</td>\n",
       "      <td>False</td>\n",
       "      <td>True</td>\n",
       "      <td>True</td>\n",
       "    </tr>\n",
       "    <tr>\n",
       "      <th>4</th>\n",
       "      <td>2017-05-27 22:43:52</td>\n",
       "      <td>2017-05-27 22:47:28</td>\n",
       "      <td>216</td>\n",
       "      <td>3571S</td>\n",
       "      <td>NaN</td>\n",
       "      <td>Magistrates</td>\n",
       "      <td>LITTLE LONSDALE STREET</td>\n",
       "      <td>4</td>\n",
       "      <td>False</td>\n",
       "      <td>False</td>\n",
       "      <td>False</td>\n",
       "    </tr>\n",
       "  </tbody>\n",
       "</table>\n",
       "</div>"
      ],
      "text/plain": [
       "           ArrivalTime        DepartureTime  DurationSeconds StreetMarker  \\\n",
       "0  2017-04-11 07:24:35  2017-04-11 07:30:00              325        2477S   \n",
       "1  2017-07-03 06:41:20  2017-07-03 07:30:00             2920        3598N   \n",
       "2  2017-04-07 10:48:38  2017-04-07 11:41:34             3176       12548N   \n",
       "3  2017-02-09 16:57:38  2017-02-09 17:11:04              806       13836N   \n",
       "4  2017-05-27 22:43:52  2017-05-27 22:47:28              216        3571S   \n",
       "\n",
       "                        Sign         Area              StreetName  \\\n",
       "0                        NaN      Spencer           BOURKE STREET   \n",
       "1                        NaN  Magistrates  LITTLE LONSDALE STREET   \n",
       "2    2P TKT A M-F 7:30-18:30     Jolimont       WELLINGTON PARADE   \n",
       "3  2P TKT A M-SAT 7:30-18:30    Docklands  LITTLE DOCKLANDS DRIVE   \n",
       "4                        NaN  Magistrates  LITTLE LONSDALE STREET   \n",
       "\n",
       "   Side Of Street  In Violation  Vehicle Present  Sign_in_effect  \n",
       "0               4         False             True           False  \n",
       "1               3         False            False           False  \n",
       "2               3         False             True            True  \n",
       "3               3         False             True            True  \n",
       "4               4         False            False           False  "
      ]
     },
     "execution_count": 4,
     "metadata": {},
     "output_type": "execute_result"
    }
   ],
   "source": [
    "p_2017.head()"
   ]
  },
  {
   "cell_type": "code",
   "execution_count": 5,
   "metadata": {},
   "outputs": [
    {
     "data": {
      "text/plain": [
       "ArrivalTime        object\n",
       "DepartureTime      object\n",
       "DurationSeconds     int64\n",
       "StreetMarker       object\n",
       "Sign               object\n",
       "Area               object\n",
       "StreetName         object\n",
       "Side Of Street      int64\n",
       "In Violation         bool\n",
       "Vehicle Present      bool\n",
       "Sign_in_effect       bool\n",
       "dtype: object"
      ]
     },
     "execution_count": 5,
     "metadata": {},
     "output_type": "execute_result"
    }
   ],
   "source": [
    "p_2017.dtypes"
   ]
  },
  {
   "cell_type": "code",
   "execution_count": 6,
   "metadata": {},
   "outputs": [
    {
     "data": {
      "text/plain": [
       "9"
      ]
     },
     "execution_count": 6,
     "metadata": {},
     "output_type": "execute_result"
    }
   ],
   "source": [
    "# Checking if there are any violations without signage\n",
    "# Low number compared to dataset, so unconcerned about this at this point\n",
    "\n",
    "p_2017[(p_2017['Sign'].isnull()) & (p_2017['In Violation'])]['In Violation'].count()"
   ]
  },
  {
   "cell_type": "code",
   "execution_count": 7,
   "metadata": {},
   "outputs": [],
   "source": [
    "# Renaming columns in preferred convention\n",
    "\n",
    "p_2017.rename(columns = {'ArrivalTime':'arrival_time',\n",
    "                         'DepartureTime':'departure_time',\n",
    "                         'DurationSeconds':'duration_seconds',\n",
    "                         'StreetMarker':'street_marker',\n",
    "                         'Sign':'sign',\n",
    "                         'Area':'area',\n",
    "                         'StreetName':'street_name',\n",
    "                         'Side Of Street':'side_of_street',\n",
    "                         'In Violation':'in_violation',\n",
    "                         'Vehicle Present':'vehicle_present',\n",
    "                         'Sign_in_effect':'sign_in_effect'},\n",
    "                          inplace=True)"
   ]
  },
  {
   "cell_type": "code",
   "execution_count": 8,
   "metadata": {},
   "outputs": [
    {
     "data": {
      "text/plain": [
       "Index(['arrival_time', 'departure_time', 'duration_seconds', 'street_marker',\n",
       "       'sign', 'area', 'street_name', 'side_of_street', 'in_violation',\n",
       "       'vehicle_present', 'sign_in_effect'],\n",
       "      dtype='object')"
      ]
     },
     "execution_count": 8,
     "metadata": {},
     "output_type": "execute_result"
    }
   ],
   "source": [
    "p_2017.columns"
   ]
  },
  {
   "cell_type": "code",
   "execution_count": 9,
   "metadata": {},
   "outputs": [
    {
     "data": {
      "text/plain": [
       "arrival_time               0\n",
       "departure_time             0\n",
       "duration_seconds           0\n",
       "street_marker              0\n",
       "sign                12364855\n",
       "area                       0\n",
       "street_name                0\n",
       "side_of_street             0\n",
       "in_violation               0\n",
       "vehicle_present            0\n",
       "sign_in_effect             0\n",
       "dtype: int64"
      ]
     },
     "execution_count": 9,
     "metadata": {},
     "output_type": "execute_result"
    }
   ],
   "source": [
    "# Checking for nulls\n",
    "# Nulls in sign just mean no sign was in effect during the parking event\n",
    "\n",
    "p_2017.isnull().sum()"
   ]
  },
  {
   "cell_type": "code",
   "execution_count": 10,
   "metadata": {},
   "outputs": [],
   "source": [
    "# There are few old entries in the Sign section, and in case \n",
    "# Sign will be used to merge onto the restrictions table\n",
    "# outdated signs will be removed\n",
    "# Also need to check if more signs are outdated when merging restrictions table \n",
    "# ..(Yes, yes they are) cannot use a merge onto restrictions, too many changes\n",
    "\n",
    "p_2017 = p_2017[p_2017['sign'].str.contains('old', regex=False, na=False) == False]"
   ]
  },
  {
   "cell_type": "code",
   "execution_count": 11,
   "metadata": {},
   "outputs": [
    {
     "data": {
      "text/plain": [
       "(35850893, 11)"
      ]
     },
     "execution_count": 11,
     "metadata": {},
     "output_type": "execute_result"
    }
   ],
   "source": [
    "# Duration in negative values or 0 are due to defective sensors, removing as corrupt data\n",
    "# Found some durations greater than a day, impossible with way sensors log info, \n",
    "# removing as corrupt data\n",
    "\n",
    "p_2017 = p_2017[p_2017['duration_seconds'] > 0]\n",
    "p_2017 = p_2017[p_2017['duration_seconds'] < 86400]\n",
    "p_2017.shape"
   ]
  },
  {
   "cell_type": "code",
   "execution_count": 12,
   "metadata": {},
   "outputs": [],
   "source": [
    "# Kensington is one single parking bay with low utilisation, removing from analysis\n",
    "\n",
    "p_2017 = p_2017[p_2017['area'] != 'Kensington']"
   ]
  },
  {
   "cell_type": "code",
   "execution_count": 13,
   "metadata": {},
   "outputs": [
    {
     "data": {
      "text/plain": [
       "(35849853, 11)"
      ]
     },
     "execution_count": 13,
     "metadata": {},
     "output_type": "execute_result"
    }
   ],
   "source": [
    "p_2017.shape"
   ]
  },
  {
   "cell_type": "code",
   "execution_count": 14,
   "metadata": {},
   "outputs": [],
   "source": [
    "# Sorting, Takes a while\n",
    "\n",
    "p_2017 = p_2017.sort_values(by=['street_marker', 'arrival_time'], ignore_index=True)"
   ]
  },
  {
   "cell_type": "code",
   "execution_count": 15,
   "metadata": {},
   "outputs": [],
   "source": [
    "# Producing a sorted list of sign options\n",
    "# Used to check what to perform in the next function\n",
    "\n",
    "sign_list = list(p_2017[p_2017['sign'].notnull()]['sign'].unique())\n",
    "sign_series = pd.Series(sign_list)\n",
    "\n",
    "# Uncomment to see the list of sign options\n",
    "\n",
    "#list(sign_series.sort_values())"
   ]
  },
  {
   "cell_type": "code",
   "execution_count": 16,
   "metadata": {},
   "outputs": [],
   "source": [
    "# Time to parse the sign out, need to find the allowable time limit at time of parking\n",
    "# Initially wanted to use restriction data, but current signage does not match 2017 well enough\n",
    "\n",
    "def sign_parse(signs):\n",
    "    if signs == np.NAN:\n",
    "        return np.NAN\n",
    "    \n",
    "# numP parking signs\n",
    "    \n",
    "    x = re.match(r\"(^\\S[^P]*)\", signs)\n",
    "    if x != None and x.group(1) == '1/4':    \n",
    "        return 15*60\n",
    "    elif x != None and x.group(1) == '1/2':\n",
    "        return 30*60\n",
    "    elif x != None and x.group(1) == '1':\n",
    "        return 60*60\n",
    "    elif x != None and x.group(1) == '2':\n",
    "        return 120*60\n",
    "    elif x != None and x.group(1) == '3':\n",
    "        return 180*60\n",
    "    elif x != None and x.group(1) == '4':\n",
    "        return 240*60\n",
    "\n",
    "# LZ num parking signs        \n",
    "        \n",
    "    y = re.search(r\"((?<=LZ )\\d\\d)\", signs)\n",
    "    if y != None and y.group(0) == '30':    \n",
    "        return 30*60\n",
    "    elif y != None and y.group(0) == '15':\n",
    "        return 15*60\n",
    "\n",
    "# Pnum parking signs        \n",
    "        \n",
    "    z = re.search(r\"(?<=P)\\d+\", signs)\n",
    "    if z != None and z.group(0) == '15':    \n",
    "        return 15*60\n",
    "    if z != None and z.group(0) == '10':    \n",
    "        return 10*60\n",
    "    if z != None and z.group(0) == '5':    \n",
    "        return 5*60\n",
    "\n",
    "# P/num parking signs\n",
    "        \n",
    "    i = re.search(r\"(?<=P/)\\d+\", signs)\n",
    "    if i != None and i.group(0) == '15':    \n",
    "        return 15*60\n",
    "    if i != None and i.group(0) == '10':    \n",
    "        return 10*60\n",
    "    if i != None and i.group(0) == '5':    \n",
    "        return 5*60\n",
    "        \n",
    "    if signs == 'Loading Zone 60mins':\n",
    "        return 60*60\n",
    "        \n",
    "    if signs == 'L/Zone 30MINS 7.30 - 6.30PM':\n",
    "        return 30*60\n",
    "        \n",
    "    if signs == 'P 5 Mon - Sat 7.30 - 19.30':\n",
    "        return 5*60\n",
    "    \n",
    "    return np.NAN"
   ]
  },
  {
   "cell_type": "code",
   "execution_count": 17,
   "metadata": {},
   "outputs": [],
   "source": [
    "# Creating a column using the parsing function\n",
    "\n",
    "p_2017['duration_allowed'] = p_2017['sign'].\\\n",
    "apply(lambda x:np.NAN if x is np.NAN else sign_parse(x))"
   ]
  },
  {
   "cell_type": "code",
   "execution_count": 18,
   "metadata": {},
   "outputs": [],
   "source": [
    "# Time to seperate out the other elements into Bool cols\n",
    "\n",
    "p_2017['loading_zone'] = p_2017['sign'].str.contains('LZ|L/Zone|Loading', regex=True, na=False)\n",
    "p_2017['paid_park'] = p_2017['sign'].str.contains('MTR|TKT|Meter|Ticket', regex=True, na=False)\n",
    "p_2017['disabled_park'] = p_2017['sign'].str.contains('DIS', regex=True, na=False)"
   ]
  },
  {
   "cell_type": "code",
   "execution_count": 19,
   "metadata": {},
   "outputs": [
    {
     "data": {
      "text/plain": [
       "(35663812, 15)"
      ]
     },
     "execution_count": 19,
     "metadata": {},
     "output_type": "execute_result"
    }
   ],
   "source": [
    "# Handling the sequential issues, need to remove records that..\n",
    "# defaulted to midnight either on arrival or departure..\n",
    "# as noted by the Data owner\n",
    "# Using shift to compare a sorted record to the previous record\n",
    "# Despite sensors not working on public holidays, does not appear to be an issue for this\n",
    "# Removing all if these records as corrupt data due to sensing issues \n",
    "# (135k records for arrival midnight default)\n",
    "\n",
    "# Removing the ARRIVAL midnight default behaviour (135k records for arrival midnight default)\n",
    "\n",
    "p_2017 = p_2017[((p_2017['arrival_time'] != p_2017['departure_time'].\\\n",
    "         shift(periods=1, fill_value='0000-00-00 00:00:00')) &\\\n",
    "         (p_2017['arrival_time'].str.contains('00:00:00', regex=False)) &\\\n",
    "         (p_2017['street_marker'] == p_2017['street_marker'].\\\n",
    "         shift(periods=1, fill_value='NA'))) == False]\n",
    "\n",
    "# Removing the DEPARTURE midnight default behaviour (40k records for departure midnight default)\n",
    "\n",
    "p_2017 = p_2017[((p_2017['departure_time'] != p_2017['arrival_time'].\\\n",
    "         shift(periods=-1, fill_value='0000-00-00 00:00:00')) &\\\n",
    "         (p_2017['departure_time'].str.contains('00:00:00', regex=False)) &\\\n",
    "         (p_2017['street_marker'] == p_2017['street_marker'].\\\n",
    "         shift(periods=-1, fill_value='NA'))) == False]\n",
    "\n",
    "p_2017.shape"
   ]
  },
  {
   "cell_type": "code",
   "execution_count": 20,
   "metadata": {},
   "outputs": [],
   "source": [
    "# Reset the index after deleting records\n",
    "\n",
    "p_2017.reset_index(drop=True, inplace=True)"
   ]
  },
  {
   "cell_type": "code",
   "execution_count": 21,
   "metadata": {},
   "outputs": [],
   "source": [
    "# Save to new cleaned file\n",
    "\n",
    "p_2017.to_csv('../Data/cleaned/parking_2017_cleaned.csv',encoding='utf-8',index=False)"
   ]
  },
  {
   "cell_type": "code",
   "execution_count": 22,
   "metadata": {},
   "outputs": [],
   "source": [
    "# Split into 2 and save - Vehicle present = True and Violation = True\n",
    "\n",
    "p_2017_vehicle_true = p_2017[p_2017['vehicle_present']]\n",
    "p_2017_vehicle_true.to_csv('../Data/cleaned/parking_2017_cleaned_vehicle_present.csv',encoding='utf-8',index=False)\n",
    "\n",
    "p_2017_violation_true = p_2017[p_2017['in_violation']]\n",
    "p_2017_violation_true.to_csv('../Data/cleaned/parking_2017_cleaned_violation.csv',encoding='utf-8',index=False)"
   ]
  },
  {
   "cell_type": "markdown",
   "metadata": {},
   "source": [
    "# Parking Geometery Cleaning"
   ]
  },
  {
   "cell_type": "code",
   "execution_count": 23,
   "metadata": {},
   "outputs": [],
   "source": [
    "# Read in the file\n",
    "\n",
    "p_geom = pd.read_csv('../Data/On-street_Parking_Bays.csv')"
   ]
  },
  {
   "cell_type": "code",
   "execution_count": 24,
   "metadata": {},
   "outputs": [],
   "source": [
    "# filtering table down to marker_id with values. Values with no marker_id fall outside the project scope\n",
    "\n",
    "p_geom = p_geom[p_geom['marker_id'].notnull()]"
   ]
  },
  {
   "cell_type": "code",
   "execution_count": 25,
   "metadata": {},
   "outputs": [
    {
     "data": {
      "text/html": [
       "<div>\n",
       "<style scoped>\n",
       "    .dataframe tbody tr th:only-of-type {\n",
       "        vertical-align: middle;\n",
       "    }\n",
       "\n",
       "    .dataframe tbody tr th {\n",
       "        vertical-align: top;\n",
       "    }\n",
       "\n",
       "    .dataframe thead th {\n",
       "        text-align: right;\n",
       "    }\n",
       "</style>\n",
       "<table border=\"1\" class=\"dataframe\">\n",
       "  <thead>\n",
       "    <tr style=\"text-align: right;\">\n",
       "      <th></th>\n",
       "      <th>the_geom</th>\n",
       "      <th>marker_id</th>\n",
       "      <th>bay_id</th>\n",
       "    </tr>\n",
       "  </thead>\n",
       "  <tbody>\n",
       "    <tr>\n",
       "      <th>11</th>\n",
       "      <td>MULTIPOLYGON (((144.969314279727 -37.830072209...</td>\n",
       "      <td>8006E</td>\n",
       "      <td>14698.0</td>\n",
       "    </tr>\n",
       "    <tr>\n",
       "      <th>12</th>\n",
       "      <td>MULTIPOLYGON (((144.980791752861 -37.818535866...</td>\n",
       "      <td>15139S</td>\n",
       "      <td>16684.0</td>\n",
       "    </tr>\n",
       "    <tr>\n",
       "      <th>15</th>\n",
       "      <td>MULTIPOLYGON (((144.957969625279 -37.816797594...</td>\n",
       "      <td>2258N</td>\n",
       "      <td>13666.0</td>\n",
       "    </tr>\n",
       "    <tr>\n",
       "      <th>23</th>\n",
       "      <td>MULTIPOLYGON (((144.966449574995 -37.822830434...</td>\n",
       "      <td>8783W</td>\n",
       "      <td>19898.0</td>\n",
       "    </tr>\n",
       "    <tr>\n",
       "      <th>24</th>\n",
       "      <td>MULTIPOLYGON (((144.950359511361 -37.819413321...</td>\n",
       "      <td>13478E</td>\n",
       "      <td>14971.0</td>\n",
       "    </tr>\n",
       "  </tbody>\n",
       "</table>\n",
       "</div>"
      ],
      "text/plain": [
       "                                             the_geom marker_id   bay_id\n",
       "11  MULTIPOLYGON (((144.969314279727 -37.830072209...     8006E  14698.0\n",
       "12  MULTIPOLYGON (((144.980791752861 -37.818535866...    15139S  16684.0\n",
       "15  MULTIPOLYGON (((144.957969625279 -37.816797594...     2258N  13666.0\n",
       "23  MULTIPOLYGON (((144.966449574995 -37.822830434...     8783W  19898.0\n",
       "24  MULTIPOLYGON (((144.950359511361 -37.819413321...    13478E  14971.0"
      ]
     },
     "execution_count": 25,
     "metadata": {},
     "output_type": "execute_result"
    }
   ],
   "source": [
    "# Removing geometry data, last edit and the rd_segment columns\n",
    "\n",
    "p_geom.drop(columns = ['last_edit','rd_seg_id','rd_seg_dsc', 'meter_id'], inplace =True)\n",
    "p_geom.head()"
   ]
  },
  {
   "cell_type": "code",
   "execution_count": 26,
   "metadata": {},
   "outputs": [
    {
     "data": {
      "text/plain": [
       "(6023, 3)"
      ]
     },
     "execution_count": 26,
     "metadata": {},
     "output_type": "execute_result"
    }
   ],
   "source": [
    "p_geom.shape"
   ]
  },
  {
   "cell_type": "code",
   "execution_count": 27,
   "metadata": {},
   "outputs": [],
   "source": [
    "# Save to new cleaned file\n",
    "\n",
    "p_geom.to_csv('../Data/cleaned/bay_geom_cleaned.csv',encoding='utf-8',index=False)"
   ]
  },
  {
   "cell_type": "markdown",
   "metadata": {},
   "source": [
    "# Current Parking Sensor Cleaning"
   ]
  },
  {
   "cell_type": "code",
   "execution_count": 28,
   "metadata": {},
   "outputs": [],
   "source": [
    "# Read in the file\n",
    "\n",
    "p_sensor = pd.read_csv('../Data/On-street_Parking_Bay_Sensors.csv')\n",
    "\n",
    "# Size of database fluctuates as sensors connect and disconnect"
   ]
  },
  {
   "cell_type": "code",
   "execution_count": 29,
   "metadata": {},
   "outputs": [
    {
     "data": {
      "text/html": [
       "<div>\n",
       "<style scoped>\n",
       "    .dataframe tbody tr th:only-of-type {\n",
       "        vertical-align: middle;\n",
       "    }\n",
       "\n",
       "    .dataframe tbody tr th {\n",
       "        vertical-align: top;\n",
       "    }\n",
       "\n",
       "    .dataframe thead th {\n",
       "        text-align: right;\n",
       "    }\n",
       "</style>\n",
       "<table border=\"1\" class=\"dataframe\">\n",
       "  <thead>\n",
       "    <tr style=\"text-align: right;\">\n",
       "      <th></th>\n",
       "      <th>bay_id</th>\n",
       "      <th>st_marker_id</th>\n",
       "      <th>lat</th>\n",
       "      <th>lon</th>\n",
       "    </tr>\n",
       "  </thead>\n",
       "  <tbody>\n",
       "    <tr>\n",
       "      <th>0</th>\n",
       "      <td>5544</td>\n",
       "      <td>12021W</td>\n",
       "      <td>-37.813137</td>\n",
       "      <td>144.982972</td>\n",
       "    </tr>\n",
       "    <tr>\n",
       "      <th>1</th>\n",
       "      <td>5559</td>\n",
       "      <td>12051W</td>\n",
       "      <td>-37.812308</td>\n",
       "      <td>144.983110</td>\n",
       "    </tr>\n",
       "    <tr>\n",
       "      <th>2</th>\n",
       "      <td>3820</td>\n",
       "      <td>C5494</td>\n",
       "      <td>-37.807235</td>\n",
       "      <td>144.954340</td>\n",
       "    </tr>\n",
       "    <tr>\n",
       "      <th>3</th>\n",
       "      <td>5396</td>\n",
       "      <td>11758E</td>\n",
       "      <td>-37.810055</td>\n",
       "      <td>144.975699</td>\n",
       "    </tr>\n",
       "    <tr>\n",
       "      <th>4</th>\n",
       "      <td>5484</td>\n",
       "      <td>11891W</td>\n",
       "      <td>-37.810443</td>\n",
       "      <td>144.978100</td>\n",
       "    </tr>\n",
       "  </tbody>\n",
       "</table>\n",
       "</div>"
      ],
      "text/plain": [
       "   bay_id st_marker_id        lat         lon\n",
       "0    5544       12021W -37.813137  144.982972\n",
       "1    5559       12051W -37.812308  144.983110\n",
       "2    3820        C5494 -37.807235  144.954340\n",
       "3    5396       11758E -37.810055  144.975699\n",
       "4    5484       11891W -37.810443  144.978100"
      ]
     },
     "execution_count": 29,
     "metadata": {},
     "output_type": "execute_result"
    }
   ],
   "source": [
    "# Removing live status for initial analysis and location (redundant)\n",
    "\n",
    "p_sensor.drop(columns = ['status','location'], inplace =True)\n",
    "p_sensor.head()"
   ]
  },
  {
   "cell_type": "code",
   "execution_count": 30,
   "metadata": {},
   "outputs": [
    {
     "data": {
      "text/plain": [
       "(2520, 4)"
      ]
     },
     "execution_count": 30,
     "metadata": {},
     "output_type": "execute_result"
    }
   ],
   "source": [
    "p_sensor.shape"
   ]
  },
  {
   "cell_type": "code",
   "execution_count": 31,
   "metadata": {},
   "outputs": [],
   "source": [
    "# Save to new cleaned file\n",
    "\n",
    "p_sensor.to_csv('../Data/cleaned/parking_sensors_cleaned.csv',encoding='utf-8',index=False)"
   ]
  }
 ],
 "metadata": {
  "kernelspec": {
   "display_name": "Python 3",
   "language": "python",
   "name": "python3"
  },
  "language_info": {
   "codemirror_mode": {
    "name": "ipython",
    "version": 3
   },
   "file_extension": ".py",
   "mimetype": "text/x-python",
   "name": "python",
   "nbconvert_exporter": "python",
   "pygments_lexer": "ipython3",
   "version": "3.8.5"
  }
 },
 "nbformat": 4,
 "nbformat_minor": 4
}
